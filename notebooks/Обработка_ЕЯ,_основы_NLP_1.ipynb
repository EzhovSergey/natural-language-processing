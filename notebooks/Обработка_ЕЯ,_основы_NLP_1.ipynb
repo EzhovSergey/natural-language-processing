{
  "nbformat": 4,
  "nbformat_minor": 0,
  "metadata": {
    "colab": {
      "name": "Обработка ЕЯ, основы NLP 1.ipynb",
      "provenance": [],
      "collapsed_sections": []
    },
    "kernelspec": {
      "name": "python3",
      "display_name": "Python 3"
    },
    "language_info": {
      "name": "python"
    }
  },
  "cells": [
    {
      "cell_type": "markdown",
      "metadata": {
        "id": "1T45drVGAoZS"
      },
      "source": [
        "Задание:\n",
        "\n",
        "С помощью метода get_prepared_all_vacancies_from_hh\n",
        "загрузить 10000 вакансии с сайта hh.ru.\n",
        "\n",
        "Договоритесь чтобы вакансии не повторялись.\n",
        "\n",
        "Сохранить результат в виде csv файла с тремя столбцами:\n",
        "1. id вакансии\n",
        "2. сырой json\n",
        "3. подготовленное описание вакансии\n",
        "\n",
        "Не забывайте про обработку ошибок"
      ]
    },
    {
      "cell_type": "code",
      "metadata": {
        "colab": {
          "base_uri": "https://localhost:8080/"
        },
        "id": "wj5gXHhjZtXd",
        "outputId": "b0f849b3-4d9a-41c4-eaaf-355fd1b771c4"
      },
      "source": [
        "import concurrent.futures as cf\n",
        "import pandas as pd\n",
        "from urllib.request import urlopen\n",
        "import json\n",
        "import re\n",
        "import nltk.tokenize as nt\n",
        "import nltk\n",
        "nltk.download('punkt')\n",
        "\n",
        "!pip install pymorphy2\n",
        "\n",
        "import pymorphy2\n",
        "morph = pymorphy2.MorphAnalyzer()\n",
        "from nltk.corpus import stopwords\n",
        "\n",
        "import random"
      ],
      "execution_count": null,
      "outputs": [
        {
          "output_type": "stream",
          "name": "stdout",
          "text": [
            "[nltk_data] Downloading package punkt to /root/nltk_data...\n",
            "[nltk_data]   Unzipping tokenizers/punkt.zip.\n",
            "Collecting pymorphy2\n",
            "  Downloading pymorphy2-0.9.1-py3-none-any.whl (55 kB)\n",
            "\u001b[K     |████████████████████████████████| 55 kB 2.0 MB/s \n",
            "\u001b[?25hCollecting dawg-python>=0.7.1\n",
            "  Downloading DAWG_Python-0.7.2-py2.py3-none-any.whl (11 kB)\n",
            "Collecting pymorphy2-dicts-ru<3.0,>=2.4\n",
            "  Downloading pymorphy2_dicts_ru-2.4.417127.4579844-py2.py3-none-any.whl (8.2 MB)\n",
            "\u001b[K     |████████████████████████████████| 8.2 MB 8.5 MB/s \n",
            "\u001b[?25hRequirement already satisfied: docopt>=0.6 in /usr/local/lib/python3.7/dist-packages (from pymorphy2) (0.6.2)\n",
            "Installing collected packages: pymorphy2-dicts-ru, dawg-python, pymorphy2\n",
            "Successfully installed dawg-python-0.7.2 pymorphy2-0.9.1 pymorphy2-dicts-ru-2.4.417127.4579844\n"
          ]
        }
      ]
    },
    {
      "cell_type": "code",
      "metadata": {
        "id": "oSGoAoSOsaOr"
      },
      "source": [
        "def download_json(url): # запрос на сервер hh.ru\n",
        "  response = urlopen(url)\n",
        "  data_json = json.loads(response.read())\n",
        "  return data_json\n",
        "  \n",
        "# download_json('https://api.hh.ru/vacancies/220')['description'] # пример работы "
      ],
      "execution_count": null,
      "outputs": []
    },
    {
      "cell_type": "code",
      "metadata": {
        "id": "TR80d6BquBcm"
      },
      "source": [
        "'''\n",
        "РЕАЛИЗОВАТЬ remove_garbage\n",
        "Используйте регулярные выражения\n",
        "IN: str '<p>ТРЕБОВАНИЯ: <br /> - обязательно высшее или незаконченное высшее экономическое образование;...'\n",
        "OUT: str 'ТРЕБОВАНИЯ: - обязательно высшее или незаконченное высшее экономическое образование;...'\n",
        "'''\n",
        "def remove_garbage(raw_text):\n",
        "  raw_text = re.sub(r'<[^>]*>', '', raw_text)\n",
        "  raw_text = re.sub(r'\\\\.', '', raw_text)\n",
        "  raw_text = re.sub(r'&quot', '', raw_text)\n",
        "\n",
        "  raw_text = re.sub(r'\\s+', ' ', raw_text)\n",
        "  return raw_text\n",
        "\n",
        "# remove_garbage('Требования к кандидатам:\\r<br />\\nВозраст 25-40 лет,\\r<br />\\nвысшее образование психологическое или экономическое. Предпочтительно два высших образования: \\r<br />\\n1-е экономическое/техническое, \\r<br />\\n2-е психологическое (возможно неоконченное). \\r<br />\\nОпыт реализации или участия в проектах, связанных с постановкой или совершенствованием систем управления персоналом, как внутри организации, так и в качестве привлеченного консультанта от 2-х лет. Полноценный набор знаний и навыков в области управления персоналом (оценка, обучение и развитие, компенсация, мотивация, подбор).\\r<br />\\nЖелательно наличие знаний в следующих областях: анализ организационной структуры предприятия и  структуры аппарата управления; анализ управленческих регламентов и процедур; управление проектом; организация и принципы функционирования основных управленческих систем. \\r<br />\\nГибкость мышления, способность к написанию и структурированию текстов, способность видеть и строить механизмы.\\r<br />\\nГотовность к командировкам (50% рабочего времени),\\r<br />\\nгражданство РФ. \\r<br />\\n\\r<br />\\nПерспективы роста.')"
      ],
      "execution_count": null,
      "outputs": []
    },
    {
      "cell_type": "code",
      "metadata": {
        "id": "0trYWVvtIkOW"
      },
      "source": [
        "'''\n",
        "РЕАЛИЗОВАТЬ tokenize\n",
        "Используйте word_tokenize из nltk.tokenize\n",
        "IN: str 'ТРЕБОВАНИЯ: - обязательно высшее или незаконченное высшее экономическое образование;...'\n",
        "OUT: list ['требования', ':', '-', 'обязательно', 'высшее', 'или', 'незаконченное', 'высшее', 'экономическое', 'образование']\n",
        "'''\n",
        "def tokenize(raw_text):\n",
        "  tokenizer = nt.RegexpTokenizer(r'\\w+')\n",
        "  tokens = tokenizer.tokenize(raw_text)\n",
        "  return tokens\n",
        "\n",
        "# tokenize('ТРЕБОВАНИЯ: - обязательно высшее или незаконченное высшее экономическое образование;...')"
      ],
      "execution_count": null,
      "outputs": []
    },
    {
      "cell_type": "code",
      "metadata": {
        "id": "Jp-S1920L6QT"
      },
      "source": [
        "'''\n",
        "РЕАЛИЗОВАТЬ to_base_form\n",
        "Можно использовать и лемматизацию и стемминг: pymystem3, ntlk, Spacy, gensim\n",
        "IN: str 'Красивая мама красиво мыла раму'\n",
        "OUT: str 'красивый мама красиво мыть рама'\n",
        "'''\n",
        "def to_base_form(raw_text):\n",
        "  res = list()\n",
        "  for word in raw_text:\n",
        "    p = morph.parse(word)[0]\n",
        "    res.append(p.normal_form)\n",
        "  return res\n",
        "\n",
        "# to_base_form(['Красивая','мама', 'красиво', 'мыла', 'раму'])"
      ],
      "execution_count": null,
      "outputs": []
    },
    {
      "cell_type": "code",
      "metadata": {
        "id": "2FCOqsQPuxQE",
        "colab": {
          "base_uri": "https://localhost:8080/"
        },
        "outputId": "03c8bc94-386c-4d3a-cd8d-9c8820028442"
      },
      "source": [
        "'''\n",
        "РЕАЛИЗОВАТЬ remove_stop_words\n",
        "Используйте stopwords из nltk.corpus \n",
        "IN: list ['требования', ':', '-', 'обязательно', 'высший', 'или', 'незаконченный', 'высший', 'экономический', 'образование']\n",
        "OUT: list ['требование', 'обязательно', 'высший', 'незаконченный', 'высший', 'экономический', 'образование']\n",
        "'''\n",
        "nltk.download('stopwords')\n",
        "stopWords = set(stopwords.words(\"russian\"))\n",
        "\n",
        "def remove_stop_words(tokens):\n",
        "  filtered_words = []\n",
        "  for word in tokens:\n",
        "    if word not in stopWords:\n",
        "        filtered_words.append(word)\n",
        "  return filtered_words\n",
        "\n",
        "# remove_stop_words(['требования', ':', '-', 'обязательно', 'высший', 'или', 'незаконченный', 'высший', 'экономический', 'образование'])"
      ],
      "execution_count": null,
      "outputs": [
        {
          "output_type": "stream",
          "name": "stdout",
          "text": [
            "[nltk_data] Downloading package stopwords to /root/nltk_data...\n",
            "[nltk_data]   Unzipping corpora/stopwords.zip.\n"
          ]
        }
      ]
    },
    {
      "cell_type": "code",
      "metadata": {
        "id": "HV4CVKnDvFil"
      },
      "source": [
        "'''\n",
        "РЕАЛИЗОВАТЬ get_prepared_vacancy_description_from_hh\n",
        "Используйте реализованные ранее методы\n",
        "IN: int 72323\n",
        "OUT1: str vacancy_json dump\n",
        "OUT2: list[list] [['требование', 'обязательно', 'высший', 'незаконченный', 'высший', 'экономический', 'образование', ...], [...], ...]\n",
        "'''\n",
        "def get_prepared_vacancy_from_hh(vacancy_id):\n",
        "  base_url = 'https://api.hh.ru/vacancies/'\n",
        "  vacancy_json = download_json(base_url + str(vacancy_id))\n",
        "  vacancy_description = vacancy_json['description']\n",
        "\n",
        "  vacancy_description_sentences = nt.sent_tokenize(vacancy_description)\n",
        "\n",
        "  prepared_vacancy_description = []\n",
        "  for sentence in vacancy_description_sentences:\n",
        "    remove_garbage_sentence = remove_garbage(raw_text=sentence)\n",
        "    tokenize_sentence = tokenize(remove_garbage_sentence)\n",
        "    to_base_form_sentence = to_base_form(tokenize_sentence)\n",
        "    remove_stop_words_sentence = remove_stop_words(to_base_form_sentence)\n",
        "    prepared_vacancy_description.append(remove_stop_words_sentence)\n",
        "  return vacancy_id, vacancy_json, prepared_vacancy_description\n"
      ],
      "execution_count": null,
      "outputs": []
    },
    {
      "cell_type": "code",
      "metadata": {
        "id": "4CBLmNNKDFWZ"
      },
      "source": [
        "'''\n",
        "РЕАЛИЗОВАТЬ get_prepared_all_vacancies_from_hh\n",
        "Используйте get_prepared_vacancy_from_hh и ThreadPoolExecutor из concurrent.futures\n",
        "IN: list [int]\n",
        "OUT: list [vacancy_id, raw_description, prepared_description]\n",
        "'''\n",
        "def get_prepared_all_vacancies_from_hh(df, vacancy_ids):\n",
        "  with cf.ThreadPoolExecutor() as executor:\n",
        "    futures = []\n",
        "    for vacancy_id in vacancy_ids:\n",
        "      futures.append(executor.submit(get_prepared_vacancy_from_hh, vacancy_id=vacancy_id))\n",
        "    for future in cf.as_completed(futures):\n",
        "      try:\n",
        "        id, json, prepared_description = future.result()\n",
        "        row = pd.Series({'vacancy_id': id , 'raw_description': json , 'prepared_description': prepared_description})\n",
        "        df = df.append(row, ignore_index=True)\n",
        "      except Exception as exc:\n",
        "        print(f'сгенерировано исключение: {exc}')\n",
        "  return df\n"
      ],
      "execution_count": null,
      "outputs": []
    },
    {
      "cell_type": "code",
      "metadata": {
        "id": "qwtv_zVfECes"
      },
      "source": [
        "def generation_vacancy_ids(id_start = random.randint(1, 1000000)):\n",
        "  size = 2000\n",
        "  test_size = 10\n",
        "  vacancy_ids = [id_start+id for id in range(size)]\n",
        "  return vacancy_ids\n"
      ],
      "execution_count": 47,
      "outputs": []
    },
    {
      "cell_type": "code",
      "metadata": {
        "id": "-p0gtfvvRPvv"
      },
      "source": [
        "# vacancies_df = pd.DataFrame(columns=['vacancy_id', 'raw_description', 'prepared_description'])"
      ],
      "execution_count": null,
      "outputs": []
    },
    {
      "cell_type": "code",
      "metadata": {
        "id": "er5ITh0lRVBE",
        "colab": {
          "base_uri": "https://localhost:8080/",
          "height": 206
        },
        "outputId": "43e0c3b5-bba4-4a42-db73-0795b6a39f72"
      },
      "source": [
        "vacancies_df = pd.DataFrame\n",
        "vacancies_df = pd.read_csv('../data/prepared_description_vacancies_id_last_810321_size_8086.csv')\n",
        "del vacancies_df['Unnamed: 0']\n",
        "vacancies_df.head()"
      ],
      "execution_count": 41,
      "outputs": [
        {
          "output_type": "execute_result",
          "data": {
            "text/html": [
              "<div>\n",
              "<style scoped>\n",
              "    .dataframe tbody tr th:only-of-type {\n",
              "        vertical-align: middle;\n",
              "    }\n",
              "\n",
              "    .dataframe tbody tr th {\n",
              "        vertical-align: top;\n",
              "    }\n",
              "\n",
              "    .dataframe thead th {\n",
              "        text-align: right;\n",
              "    }\n",
              "</style>\n",
              "<table border=\"1\" class=\"dataframe\">\n",
              "  <thead>\n",
              "    <tr style=\"text-align: right;\">\n",
              "      <th></th>\n",
              "      <th>vacancy_id</th>\n",
              "      <th>raw_description</th>\n",
              "      <th>prepared_description</th>\n",
              "    </tr>\n",
              "  </thead>\n",
              "  <tbody>\n",
              "    <tr>\n",
              "      <th>0</th>\n",
              "      <td>795348</td>\n",
              "      <td>{'id': '795348', 'premium': False, 'billing_ty...</td>\n",
              "      <td>[['сфера', 'деятельность', 'розничный', 'торго...</td>\n",
              "    </tr>\n",
              "    <tr>\n",
              "      <th>1</th>\n",
              "      <td>795347</td>\n",
              "      <td>{'id': '795347', 'premium': False, 'billing_ty...</td>\n",
              "      <td>[['corporate', 'western', 'bank', 'initiates',...</td>\n",
              "    </tr>\n",
              "    <tr>\n",
              "      <th>2</th>\n",
              "      <td>795353</td>\n",
              "      <td>{'id': '795353', 'premium': False, 'billing_ty...</td>\n",
              "      <td>[['обязанность', 'осуществление', 'качественны...</td>\n",
              "    </tr>\n",
              "    <tr>\n",
              "      <th>3</th>\n",
              "      <td>795350</td>\n",
              "      <td>{'id': '795350', 'premium': False, 'billing_ty...</td>\n",
              "      <td>[['основной', 'обязанность', 'ведение', 'кадро...</td>\n",
              "    </tr>\n",
              "    <tr>\n",
              "      <th>4</th>\n",
              "      <td>795352</td>\n",
              "      <td>{'id': '795352', 'premium': False, 'billing_ty...</td>\n",
              "      <td>[['обязанность', 'приём', 'распределение', 'вх...</td>\n",
              "    </tr>\n",
              "  </tbody>\n",
              "</table>\n",
              "</div>"
            ],
            "text/plain": [
              "   vacancy_id  ...                               prepared_description\n",
              "0      795348  ...  [['сфера', 'деятельность', 'розничный', 'торго...\n",
              "1      795347  ...  [['corporate', 'western', 'bank', 'initiates',...\n",
              "2      795353  ...  [['обязанность', 'осуществление', 'качественны...\n",
              "3      795350  ...  [['основной', 'обязанность', 'ведение', 'кадро...\n",
              "4      795352  ...  [['обязанность', 'приём', 'распределение', 'вх...\n",
              "\n",
              "[5 rows x 3 columns]"
            ]
          },
          "metadata": {},
          "execution_count": 41
        }
      ]
    },
    {
      "cell_type": "code",
      "metadata": {
        "id": "XXs-d6QNVWIE"
      },
      "source": [
        "vacancies_df = get_prepared_all_vacancies_from_hh(vacancies_df, generation_vacancy_ids(812321))"
      ],
      "execution_count": null,
      "outputs": []
    },
    {
      "cell_type": "code",
      "metadata": {
        "id": "4-CFyvPZB91Y"
      },
      "source": [
        "vacancies_df.to_csv('../data/prepared_description_vacancies.csv')"
      ],
      "execution_count": 54,
      "outputs": []
    },
    {
      "cell_type": "code",
      "metadata": {
        "colab": {
          "base_uri": "https://localhost:8080/"
        },
        "id": "ML0P4ppHF17N",
        "outputId": "a3daa1d1-845e-4014-c71e-7a2690958b0d"
      },
      "source": [
        "vacancies_df['vacancy_id']"
      ],
      "execution_count": 53,
      "outputs": [
        {
          "output_type": "execute_result",
          "data": {
            "text/plain": [
              "0        795348\n",
              "1        795347\n",
              "2        795353\n",
              "3        795350\n",
              "4        795352\n",
              "          ...  \n",
              "10108    814105\n",
              "10109    814108\n",
              "10110    814113\n",
              "10111    814119\n",
              "10112    814120\n",
              "Name: vacancy_id, Length: 10113, dtype: int64"
            ]
          },
          "metadata": {},
          "execution_count": 53
        }
      ]
    },
    {
      "cell_type": "code",
      "metadata": {
        "colab": {
          "base_uri": "https://localhost:8080/"
        },
        "id": "8sx6HZFvdPqu",
        "outputId": "363ab68a-a4f6-4052-caa7-5b5f750abbde"
      },
      "source": [
        "vacancies_df.shape"
      ],
      "execution_count": 52,
      "outputs": [
        {
          "output_type": "execute_result",
          "data": {
            "text/plain": [
              "(10113, 3)"
            ]
          },
          "metadata": {},
          "execution_count": 52
        }
      ]
    }
  ]
}