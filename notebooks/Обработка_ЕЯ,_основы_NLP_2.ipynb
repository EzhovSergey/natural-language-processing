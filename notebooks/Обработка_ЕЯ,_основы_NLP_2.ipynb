{
  "nbformat": 4,
  "nbformat_minor": 0,
  "metadata": {
    "colab": {
      "name": "Обработка ЕЯ, основы NLP 2.ipynb",
      "provenance": [],
      "collapsed_sections": []
    },
    "kernelspec": {
      "name": "python3",
      "display_name": "Python 3"
    },
    "language_info": {
      "name": "python"
    }
  },
  "cells": [
    {
      "cell_type": "markdown",
      "metadata": {
        "id": "QshkVIPItM6S"
      },
      "source": [
        "# Вспомогательные функции"
      ]
    },
    {
      "cell_type": "code",
      "metadata": {
        "id": "jb9PwoK1cM3M"
      },
      "source": [
        "import pandas as pd"
      ],
      "execution_count": 2,
      "outputs": []
    },
    {
      "cell_type": "code",
      "metadata": {
        "id": "TlxVTfs9ckAJ"
      },
      "source": [
        "import pickle\n",
        "\n",
        "def save_model(model, name):\n",
        "  with open(name, 'wb') as output:\n",
        "    pickle.dump(model, output)\n",
        "\n",
        "def load_model(name):\n",
        "  with open(name, 'rb') as input:\n",
        "    model = pickle.load(input)\n",
        "  return model"
      ],
      "execution_count": 3,
      "outputs": []
    },
    {
      "cell_type": "code",
      "metadata": {
        "id": "EYeD5n6jcl3k"
      },
      "source": [
        "def load_df(url):\n",
        "  df = pd.DataFrame\n",
        "  df = pd.read_csv(url)\n",
        "  del df['Unnamed: 0']\n",
        "  return df\n",
        "\n",
        "def save_df(df, url):\n",
        "  df.to_csv(url)"
      ],
      "execution_count": 4,
      "outputs": []
    },
    {
      "cell_type": "code",
      "metadata": {
        "id": "5VJMtrdGceDb"
      },
      "source": [
        "import re\n",
        "def vacancy_to_text(vacancies_df):\n",
        "  vacancy_list = []\n",
        "  for vacancy in vacancies_df['prepared_description']:\n",
        "    vacancy = re.sub(r\"'\", '', vacancy)\n",
        "    vacancy = re.sub(r\"]\", '', vacancy)\n",
        "    vacancy = re.sub(r\"\\[\", '', vacancy)\n",
        "    vacancy = re.sub(r\",\", '', vacancy)\n",
        "    vacancy_list.append(vacancy)\n",
        "  return vacancy_list"
      ],
      "execution_count": 5,
      "outputs": []
    },
    {
      "cell_type": "markdown",
      "metadata": {
        "id": "cjzpLxRbte2N"
      },
      "source": [
        "# Модели"
      ]
    },
    {
      "cell_type": "code",
      "metadata": {
        "id": "tOwdBmrKtiT5"
      },
      "source": [
        "from sklearn.feature_extraction.text import CountVectorizer\n",
        "\n",
        "def bag_of_words(vacancy_list):\n",
        "  count_vectorizer = CountVectorizer(ngram_range=(1,2), min_df=3)\n",
        "  bow = count_vectorizer.fit_transform(vacancy_list)\n",
        "  save_model(count_vectorizer, '../models/count_vectorizer')\n",
        "  print(len(count_vectorizer.vocabulary_))\n",
        "  return bow"
      ],
      "execution_count": 21,
      "outputs": []
    },
    {
      "cell_type": "code",
      "metadata": {
        "id": "0aJrMO6rtlYD"
      },
      "source": [
        "from sklearn.feature_extraction.text import TfidfVectorizer\n",
        "\n",
        "def tf_idf(vacancy_list):\n",
        "  tfidf_vectorizer = TfidfVectorizer(sublinear_tf=True)\n",
        "  tfidf = tfidf_vectorizer.fit_transform(vacancy_list)\n",
        "  save_model(tfidf_vectorizer, '../models/tfidf_vectorizer')\n",
        "  print(len(tfidf_vectorizer.vocabulary_))\n",
        "  return tfidf"
      ],
      "execution_count": 10,
      "outputs": []
    },
    {
      "cell_type": "markdown",
      "metadata": {
        "id": "hkqKXpLvttxy"
      },
      "source": [
        "# main"
      ]
    },
    {
      "cell_type": "code",
      "metadata": {
        "colab": {
          "base_uri": "https://localhost:8080/",
          "height": 422
        },
        "id": "5SrsHEe8vf0F",
        "outputId": "988cebf9-bcf1-4a54-945a-170b30b390ad"
      },
      "source": [
        "vacancies_df = load_df('../data/prepared_description_vacancies.csv')\n",
        "vacancies_df"
      ],
      "execution_count": 12,
      "outputs": [
        {
          "output_type": "execute_result",
          "data": {
            "text/html": [
              "<div>\n",
              "<style scoped>\n",
              "    .dataframe tbody tr th:only-of-type {\n",
              "        vertical-align: middle;\n",
              "    }\n",
              "\n",
              "    .dataframe tbody tr th {\n",
              "        vertical-align: top;\n",
              "    }\n",
              "\n",
              "    .dataframe thead th {\n",
              "        text-align: right;\n",
              "    }\n",
              "</style>\n",
              "<table border=\"1\" class=\"dataframe\">\n",
              "  <thead>\n",
              "    <tr style=\"text-align: right;\">\n",
              "      <th></th>\n",
              "      <th>vacancy_id</th>\n",
              "      <th>raw_description</th>\n",
              "      <th>prepared_description</th>\n",
              "    </tr>\n",
              "  </thead>\n",
              "  <tbody>\n",
              "    <tr>\n",
              "      <th>0</th>\n",
              "      <td>795348</td>\n",
              "      <td>{'id': '795348', 'premium': False, 'billing_ty...</td>\n",
              "      <td>[['сфера', 'деятельность', 'розничный', 'торго...</td>\n",
              "    </tr>\n",
              "    <tr>\n",
              "      <th>1</th>\n",
              "      <td>795347</td>\n",
              "      <td>{'id': '795347', 'premium': False, 'billing_ty...</td>\n",
              "      <td>[['corporate', 'western', 'bank', 'initiates',...</td>\n",
              "    </tr>\n",
              "    <tr>\n",
              "      <th>2</th>\n",
              "      <td>795353</td>\n",
              "      <td>{'id': '795353', 'premium': False, 'billing_ty...</td>\n",
              "      <td>[['обязанность', 'осуществление', 'качественны...</td>\n",
              "    </tr>\n",
              "    <tr>\n",
              "      <th>3</th>\n",
              "      <td>795350</td>\n",
              "      <td>{'id': '795350', 'premium': False, 'billing_ty...</td>\n",
              "      <td>[['основной', 'обязанность', 'ведение', 'кадро...</td>\n",
              "    </tr>\n",
              "    <tr>\n",
              "      <th>4</th>\n",
              "      <td>795352</td>\n",
              "      <td>{'id': '795352', 'premium': False, 'billing_ty...</td>\n",
              "      <td>[['обязанность', 'приём', 'распределение', 'вх...</td>\n",
              "    </tr>\n",
              "    <tr>\n",
              "      <th>...</th>\n",
              "      <td>...</td>\n",
              "      <td>...</td>\n",
              "      <td>...</td>\n",
              "    </tr>\n",
              "    <tr>\n",
              "      <th>10108</th>\n",
              "      <td>814105</td>\n",
              "      <td>{'id': '814105', 'premium': False, 'billing_ty...</td>\n",
              "      <td>[['российский', 'компания'], ['м', 'речной', '...</td>\n",
              "    </tr>\n",
              "    <tr>\n",
              "      <th>10109</th>\n",
              "      <td>814108</td>\n",
              "      <td>{'id': '814108', 'premium': False, 'billing_ty...</td>\n",
              "      <td>[['требование', 'международный', 'группа', 'ко...</td>\n",
              "    </tr>\n",
              "    <tr>\n",
              "      <th>10110</th>\n",
              "      <td>814113</td>\n",
              "      <td>{'id': '814113', 'premium': False, 'billing_ty...</td>\n",
              "      <td>[['обязанность', 'продавец', 'консультант', 'м...</td>\n",
              "    </tr>\n",
              "    <tr>\n",
              "      <th>10111</th>\n",
              "      <td>814119</td>\n",
              "      <td>{'id': '814119', 'premium': False, 'billing_ty...</td>\n",
              "      <td>[['требование', 'профессиональный', 'знание', ...</td>\n",
              "    </tr>\n",
              "    <tr>\n",
              "      <th>10112</th>\n",
              "      <td>814120</td>\n",
              "      <td>{'id': '814120', 'premium': False, 'billing_ty...</td>\n",
              "      <td>[['компания', 'заниматься', 'розничный', 'торг...</td>\n",
              "    </tr>\n",
              "  </tbody>\n",
              "</table>\n",
              "<p>10113 rows × 3 columns</p>\n",
              "</div>"
            ],
            "text/plain": [
              "       vacancy_id  ...                               prepared_description\n",
              "0          795348  ...  [['сфера', 'деятельность', 'розничный', 'торго...\n",
              "1          795347  ...  [['corporate', 'western', 'bank', 'initiates',...\n",
              "2          795353  ...  [['обязанность', 'осуществление', 'качественны...\n",
              "3          795350  ...  [['основной', 'обязанность', 'ведение', 'кадро...\n",
              "4          795352  ...  [['обязанность', 'приём', 'распределение', 'вх...\n",
              "...           ...  ...                                                ...\n",
              "10108      814105  ...  [['российский', 'компания'], ['м', 'речной', '...\n",
              "10109      814108  ...  [['требование', 'международный', 'группа', 'ко...\n",
              "10110      814113  ...  [['обязанность', 'продавец', 'консультант', 'м...\n",
              "10111      814119  ...  [['требование', 'профессиональный', 'знание', ...\n",
              "10112      814120  ...  [['компания', 'заниматься', 'розничный', 'торг...\n",
              "\n",
              "[10113 rows x 3 columns]"
            ]
          },
          "metadata": {},
          "execution_count": 12
        }
      ]
    },
    {
      "cell_type": "code",
      "metadata": {
        "id": "kgTz046Sbaod"
      },
      "source": [
        "vacancies_df = vacancies_df.iloc[:3000, :]"
      ],
      "execution_count": 13,
      "outputs": []
    },
    {
      "cell_type": "code",
      "metadata": {
        "colab": {
          "base_uri": "https://localhost:8080/"
        },
        "id": "Q2vIoBIXttAn",
        "outputId": "5cac88db-77af-4db1-a493-8bf34703eb2b"
      },
      "source": [
        "vacansy_list = vacancy_to_text(vacancies_df)\n",
        "bow = bag_of_words(vacansy_list)\n",
        "tfidf = tf_idf(vacansy_list)"
      ],
      "execution_count": 23,
      "outputs": [
        {
          "output_type": "stream",
          "name": "stdout",
          "text": [
            "20554\n",
            "13380\n"
          ]
        }
      ]
    },
    {
      "cell_type": "markdown",
      "metadata": {
        "id": "066NdyTadvaM"
      },
      "source": [
        "## bag_of_words"
      ]
    },
    {
      "cell_type": "code",
      "metadata": {
        "id": "6YDAj6g0MyA3"
      },
      "source": [
        "matrix_bow = bow.todense()\n",
        "matrix_bow_list = matrix_bow.tolist()"
      ],
      "execution_count": 24,
      "outputs": []
    },
    {
      "cell_type": "code",
      "metadata": {
        "id": "naNLvGBUX2uT"
      },
      "source": [
        "vacancies_df = vacancies_df.assign(count_vectorizer=pd.Series(matrix_bow_list).values)"
      ],
      "execution_count": 25,
      "outputs": []
    },
    {
      "cell_type": "code",
      "metadata": {
        "colab": {
          "base_uri": "https://localhost:8080/",
          "height": 422
        },
        "id": "H2Rn2e6dYlYM",
        "outputId": "65356cdd-325a-444f-affa-0c16081f3495"
      },
      "source": [
        "vacancies_df"
      ],
      "execution_count": 26,
      "outputs": [
        {
          "output_type": "execute_result",
          "data": {
            "text/html": [
              "<div>\n",
              "<style scoped>\n",
              "    .dataframe tbody tr th:only-of-type {\n",
              "        vertical-align: middle;\n",
              "    }\n",
              "\n",
              "    .dataframe tbody tr th {\n",
              "        vertical-align: top;\n",
              "    }\n",
              "\n",
              "    .dataframe thead th {\n",
              "        text-align: right;\n",
              "    }\n",
              "</style>\n",
              "<table border=\"1\" class=\"dataframe\">\n",
              "  <thead>\n",
              "    <tr style=\"text-align: right;\">\n",
              "      <th></th>\n",
              "      <th>vacancy_id</th>\n",
              "      <th>raw_description</th>\n",
              "      <th>prepared_description</th>\n",
              "      <th>count_vectorizer</th>\n",
              "    </tr>\n",
              "  </thead>\n",
              "  <tbody>\n",
              "    <tr>\n",
              "      <th>0</th>\n",
              "      <td>795348</td>\n",
              "      <td>{'id': '795348', 'premium': False, 'billing_ty...</td>\n",
              "      <td>[['сфера', 'деятельность', 'розничный', 'торго...</td>\n",
              "      <td>[0, 0, 0, 0, 0, 0, 0, 0, 0, 0, 0, 0, 0, 0, 0, ...</td>\n",
              "    </tr>\n",
              "    <tr>\n",
              "      <th>1</th>\n",
              "      <td>795347</td>\n",
              "      <td>{'id': '795347', 'premium': False, 'billing_ty...</td>\n",
              "      <td>[['corporate', 'western', 'bank', 'initiates',...</td>\n",
              "      <td>[0, 0, 0, 0, 0, 0, 0, 0, 0, 0, 0, 0, 0, 0, 0, ...</td>\n",
              "    </tr>\n",
              "    <tr>\n",
              "      <th>2</th>\n",
              "      <td>795353</td>\n",
              "      <td>{'id': '795353', 'premium': False, 'billing_ty...</td>\n",
              "      <td>[['обязанность', 'осуществление', 'качественны...</td>\n",
              "      <td>[0, 0, 0, 0, 0, 0, 0, 0, 0, 0, 0, 0, 0, 0, 0, ...</td>\n",
              "    </tr>\n",
              "    <tr>\n",
              "      <th>3</th>\n",
              "      <td>795350</td>\n",
              "      <td>{'id': '795350', 'premium': False, 'billing_ty...</td>\n",
              "      <td>[['основной', 'обязанность', 'ведение', 'кадро...</td>\n",
              "      <td>[0, 0, 0, 0, 0, 0, 0, 0, 0, 0, 0, 0, 0, 0, 0, ...</td>\n",
              "    </tr>\n",
              "    <tr>\n",
              "      <th>4</th>\n",
              "      <td>795352</td>\n",
              "      <td>{'id': '795352', 'premium': False, 'billing_ty...</td>\n",
              "      <td>[['обязанность', 'приём', 'распределение', 'вх...</td>\n",
              "      <td>[0, 0, 0, 0, 0, 0, 0, 0, 0, 0, 0, 0, 0, 0, 0, ...</td>\n",
              "    </tr>\n",
              "    <tr>\n",
              "      <th>...</th>\n",
              "      <td>...</td>\n",
              "      <td>...</td>\n",
              "      <td>...</td>\n",
              "      <td>...</td>\n",
              "    </tr>\n",
              "    <tr>\n",
              "      <th>2995</th>\n",
              "      <td>800919</td>\n",
              "      <td>{'id': '800919', 'premium': False, 'billing_ty...</td>\n",
              "      <td>[['обязанность', 'руководство', 'проект', 'нач...</td>\n",
              "      <td>[0, 0, 0, 0, 0, 0, 0, 0, 0, 0, 0, 0, 0, 0, 0, ...</td>\n",
              "    </tr>\n",
              "    <tr>\n",
              "      <th>2996</th>\n",
              "      <td>800917</td>\n",
              "      <td>{'id': '800917', 'premium': False, 'billing_ty...</td>\n",
              "      <td>[['обязанность', 'сопровождение', 'договор', '...</td>\n",
              "      <td>[2, 0, 0, 0, 0, 0, 1, 0, 0, 0, 0, 0, 0, 0, 0, ...</td>\n",
              "    </tr>\n",
              "    <tr>\n",
              "      <th>2997</th>\n",
              "      <td>800920</td>\n",
              "      <td>{'id': '800920', 'premium': False, 'billing_ty...</td>\n",
              "      <td>[['российский', 'косметический', 'компания', '...</td>\n",
              "      <td>[0, 0, 0, 0, 0, 0, 0, 0, 0, 0, 0, 0, 0, 0, 0, ...</td>\n",
              "    </tr>\n",
              "    <tr>\n",
              "      <th>2998</th>\n",
              "      <td>800921</td>\n",
              "      <td>{'id': '800921', 'premium': False, 'billing_ty...</td>\n",
              "      <td>[['основной', 'обязанность', 'руководство', 'о...</td>\n",
              "      <td>[2, 0, 0, 0, 0, 0, 0, 1, 0, 0, 0, 0, 0, 0, 0, ...</td>\n",
              "    </tr>\n",
              "    <tr>\n",
              "      <th>2999</th>\n",
              "      <td>800925</td>\n",
              "      <td>{'id': '800925', 'premium': False, 'billing_ty...</td>\n",
              "      <td>[['обязанность', 'опыт', 'ведение', 'переговор...</td>\n",
              "      <td>[0, 0, 0, 0, 0, 0, 0, 0, 0, 0, 0, 0, 0, 0, 0, ...</td>\n",
              "    </tr>\n",
              "  </tbody>\n",
              "</table>\n",
              "<p>3000 rows × 4 columns</p>\n",
              "</div>"
            ],
            "text/plain": [
              "      vacancy_id  ...                                   count_vectorizer\n",
              "0         795348  ...  [0, 0, 0, 0, 0, 0, 0, 0, 0, 0, 0, 0, 0, 0, 0, ...\n",
              "1         795347  ...  [0, 0, 0, 0, 0, 0, 0, 0, 0, 0, 0, 0, 0, 0, 0, ...\n",
              "2         795353  ...  [0, 0, 0, 0, 0, 0, 0, 0, 0, 0, 0, 0, 0, 0, 0, ...\n",
              "3         795350  ...  [0, 0, 0, 0, 0, 0, 0, 0, 0, 0, 0, 0, 0, 0, 0, ...\n",
              "4         795352  ...  [0, 0, 0, 0, 0, 0, 0, 0, 0, 0, 0, 0, 0, 0, 0, ...\n",
              "...          ...  ...                                                ...\n",
              "2995      800919  ...  [0, 0, 0, 0, 0, 0, 0, 0, 0, 0, 0, 0, 0, 0, 0, ...\n",
              "2996      800917  ...  [2, 0, 0, 0, 0, 0, 1, 0, 0, 0, 0, 0, 0, 0, 0, ...\n",
              "2997      800920  ...  [0, 0, 0, 0, 0, 0, 0, 0, 0, 0, 0, 0, 0, 0, 0, ...\n",
              "2998      800921  ...  [2, 0, 0, 0, 0, 0, 0, 1, 0, 0, 0, 0, 0, 0, 0, ...\n",
              "2999      800925  ...  [0, 0, 0, 0, 0, 0, 0, 0, 0, 0, 0, 0, 0, 0, 0, ...\n",
              "\n",
              "[3000 rows x 4 columns]"
            ]
          },
          "metadata": {},
          "execution_count": 26
        }
      ]
    },
    {
      "cell_type": "markdown",
      "metadata": {
        "id": "dYhaFlJNd0ga"
      },
      "source": [
        "## tf_idf"
      ]
    },
    {
      "cell_type": "code",
      "metadata": {
        "id": "ZeCoIWpQddOJ"
      },
      "source": [
        "matrix_tfidf = tfidf.todense()\n",
        "matrix_tfidf_list = matrix_tfidf.tolist()"
      ],
      "execution_count": 27,
      "outputs": []
    },
    {
      "cell_type": "code",
      "metadata": {
        "id": "-oIJGRNbd8zZ"
      },
      "source": [
        "vacancies_df = vacancies_df.assign(tfidf_vectorizer=pd.Series(matrix_tfidf_list).values)"
      ],
      "execution_count": 28,
      "outputs": []
    },
    {
      "cell_type": "code",
      "metadata": {
        "id": "Ei3sym4Md-qo",
        "colab": {
          "base_uri": "https://localhost:8080/",
          "height": 595
        },
        "outputId": "ff2960e5-3af6-4f9a-ef5b-58e3e70ca21d"
      },
      "source": [
        "vacancies_df"
      ],
      "execution_count": 29,
      "outputs": [
        {
          "output_type": "execute_result",
          "data": {
            "text/html": [
              "<div>\n",
              "<style scoped>\n",
              "    .dataframe tbody tr th:only-of-type {\n",
              "        vertical-align: middle;\n",
              "    }\n",
              "\n",
              "    .dataframe tbody tr th {\n",
              "        vertical-align: top;\n",
              "    }\n",
              "\n",
              "    .dataframe thead th {\n",
              "        text-align: right;\n",
              "    }\n",
              "</style>\n",
              "<table border=\"1\" class=\"dataframe\">\n",
              "  <thead>\n",
              "    <tr style=\"text-align: right;\">\n",
              "      <th></th>\n",
              "      <th>vacancy_id</th>\n",
              "      <th>raw_description</th>\n",
              "      <th>prepared_description</th>\n",
              "      <th>count_vectorizer</th>\n",
              "      <th>tfidf_vectorizer</th>\n",
              "    </tr>\n",
              "  </thead>\n",
              "  <tbody>\n",
              "    <tr>\n",
              "      <th>0</th>\n",
              "      <td>795348</td>\n",
              "      <td>{'id': '795348', 'premium': False, 'billing_ty...</td>\n",
              "      <td>[['сфера', 'деятельность', 'розничный', 'торго...</td>\n",
              "      <td>[0, 0, 0, 0, 0, 0, 0, 0, 0, 0, 0, 0, 0, 0, 0, ...</td>\n",
              "      <td>[0.0, 0.0, 0.0, 0.0, 0.0, 0.0, 0.0, 0.0, 0.0, ...</td>\n",
              "    </tr>\n",
              "    <tr>\n",
              "      <th>1</th>\n",
              "      <td>795347</td>\n",
              "      <td>{'id': '795347', 'premium': False, 'billing_ty...</td>\n",
              "      <td>[['corporate', 'western', 'bank', 'initiates',...</td>\n",
              "      <td>[0, 0, 0, 0, 0, 0, 0, 0, 0, 0, 0, 0, 0, 0, 0, ...</td>\n",
              "      <td>[0.0, 0.0, 0.0, 0.0, 0.0, 0.0, 0.0, 0.0, 0.0, ...</td>\n",
              "    </tr>\n",
              "    <tr>\n",
              "      <th>2</th>\n",
              "      <td>795353</td>\n",
              "      <td>{'id': '795353', 'premium': False, 'billing_ty...</td>\n",
              "      <td>[['обязанность', 'осуществление', 'качественны...</td>\n",
              "      <td>[0, 0, 0, 0, 0, 0, 0, 0, 0, 0, 0, 0, 0, 0, 0, ...</td>\n",
              "      <td>[0.0, 0.0, 0.0, 0.0, 0.0, 0.0, 0.0, 0.0, 0.0, ...</td>\n",
              "    </tr>\n",
              "    <tr>\n",
              "      <th>3</th>\n",
              "      <td>795350</td>\n",
              "      <td>{'id': '795350', 'premium': False, 'billing_ty...</td>\n",
              "      <td>[['основной', 'обязанность', 'ведение', 'кадро...</td>\n",
              "      <td>[0, 0, 0, 0, 0, 0, 0, 0, 0, 0, 0, 0, 0, 0, 0, ...</td>\n",
              "      <td>[0.0, 0.0, 0.0, 0.0, 0.0, 0.0, 0.0, 0.0, 0.0, ...</td>\n",
              "    </tr>\n",
              "    <tr>\n",
              "      <th>4</th>\n",
              "      <td>795352</td>\n",
              "      <td>{'id': '795352', 'premium': False, 'billing_ty...</td>\n",
              "      <td>[['обязанность', 'приём', 'распределение', 'вх...</td>\n",
              "      <td>[0, 0, 0, 0, 0, 0, 0, 0, 0, 0, 0, 0, 0, 0, 0, ...</td>\n",
              "      <td>[0.0, 0.0, 0.0, 0.0, 0.0, 0.0, 0.0, 0.0, 0.0, ...</td>\n",
              "    </tr>\n",
              "    <tr>\n",
              "      <th>...</th>\n",
              "      <td>...</td>\n",
              "      <td>...</td>\n",
              "      <td>...</td>\n",
              "      <td>...</td>\n",
              "      <td>...</td>\n",
              "    </tr>\n",
              "    <tr>\n",
              "      <th>2995</th>\n",
              "      <td>800919</td>\n",
              "      <td>{'id': '800919', 'premium': False, 'billing_ty...</td>\n",
              "      <td>[['обязанность', 'руководство', 'проект', 'нач...</td>\n",
              "      <td>[0, 0, 0, 0, 0, 0, 0, 0, 0, 0, 0, 0, 0, 0, 0, ...</td>\n",
              "      <td>[0.0, 0.0, 0.0, 0.0, 0.0, 0.0, 0.0, 0.0, 0.0, ...</td>\n",
              "    </tr>\n",
              "    <tr>\n",
              "      <th>2996</th>\n",
              "      <td>800917</td>\n",
              "      <td>{'id': '800917', 'premium': False, 'billing_ty...</td>\n",
              "      <td>[['обязанность', 'сопровождение', 'договор', '...</td>\n",
              "      <td>[2, 0, 0, 0, 0, 0, 1, 0, 0, 0, 0, 0, 0, 0, 0, ...</td>\n",
              "      <td>[0.1442695711441709, 0.0, 0.0, 0.0, 0.0, 0.0, ...</td>\n",
              "    </tr>\n",
              "    <tr>\n",
              "      <th>2997</th>\n",
              "      <td>800920</td>\n",
              "      <td>{'id': '800920', 'premium': False, 'billing_ty...</td>\n",
              "      <td>[['российский', 'косметический', 'компания', '...</td>\n",
              "      <td>[0, 0, 0, 0, 0, 0, 0, 0, 0, 0, 0, 0, 0, 0, 0, ...</td>\n",
              "      <td>[0.0, 0.0, 0.0, 0.0, 0.0, 0.0, 0.0, 0.0, 0.0, ...</td>\n",
              "    </tr>\n",
              "    <tr>\n",
              "      <th>2998</th>\n",
              "      <td>800921</td>\n",
              "      <td>{'id': '800921', 'premium': False, 'billing_ty...</td>\n",
              "      <td>[['основной', 'обязанность', 'руководство', 'о...</td>\n",
              "      <td>[2, 0, 0, 0, 0, 0, 0, 1, 0, 0, 0, 0, 0, 0, 0, ...</td>\n",
              "      <td>[0.10681281732795717, 0.0, 0.0, 0.0, 0.0, 0.0,...</td>\n",
              "    </tr>\n",
              "    <tr>\n",
              "      <th>2999</th>\n",
              "      <td>800925</td>\n",
              "      <td>{'id': '800925', 'premium': False, 'billing_ty...</td>\n",
              "      <td>[['обязанность', 'опыт', 'ведение', 'переговор...</td>\n",
              "      <td>[0, 0, 0, 0, 0, 0, 0, 0, 0, 0, 0, 0, 0, 0, 0, ...</td>\n",
              "      <td>[0.0, 0.0, 0.0, 0.0, 0.0, 0.0, 0.0, 0.0, 0.0, ...</td>\n",
              "    </tr>\n",
              "  </tbody>\n",
              "</table>\n",
              "<p>3000 rows × 5 columns</p>\n",
              "</div>"
            ],
            "text/plain": [
              "      vacancy_id  ...                                   tfidf_vectorizer\n",
              "0         795348  ...  [0.0, 0.0, 0.0, 0.0, 0.0, 0.0, 0.0, 0.0, 0.0, ...\n",
              "1         795347  ...  [0.0, 0.0, 0.0, 0.0, 0.0, 0.0, 0.0, 0.0, 0.0, ...\n",
              "2         795353  ...  [0.0, 0.0, 0.0, 0.0, 0.0, 0.0, 0.0, 0.0, 0.0, ...\n",
              "3         795350  ...  [0.0, 0.0, 0.0, 0.0, 0.0, 0.0, 0.0, 0.0, 0.0, ...\n",
              "4         795352  ...  [0.0, 0.0, 0.0, 0.0, 0.0, 0.0, 0.0, 0.0, 0.0, ...\n",
              "...          ...  ...                                                ...\n",
              "2995      800919  ...  [0.0, 0.0, 0.0, 0.0, 0.0, 0.0, 0.0, 0.0, 0.0, ...\n",
              "2996      800917  ...  [0.1442695711441709, 0.0, 0.0, 0.0, 0.0, 0.0, ...\n",
              "2997      800920  ...  [0.0, 0.0, 0.0, 0.0, 0.0, 0.0, 0.0, 0.0, 0.0, ...\n",
              "2998      800921  ...  [0.10681281732795717, 0.0, 0.0, 0.0, 0.0, 0.0,...\n",
              "2999      800925  ...  [0.0, 0.0, 0.0, 0.0, 0.0, 0.0, 0.0, 0.0, 0.0, ...\n",
              "\n",
              "[3000 rows x 5 columns]"
            ]
          },
          "metadata": {},
          "execution_count": 29
        }
      ]
    },
    {
      "cell_type": "markdown",
      "metadata": {
        "id": "BC-iVZwReOop"
      },
      "source": [
        "## save"
      ]
    },
    {
      "cell_type": "code",
      "metadata": {
        "id": "RjAzFAcYYv2u"
      },
      "source": [
        "save_df(vacancies_df, '../data/prepared_description_vacancies_vectorizer.csv')"
      ],
      "execution_count": 30,
      "outputs": []
    },
    {
      "cell_type": "markdown",
      "metadata": {
        "id": "LVuZSHpVtZ8a"
      },
      "source": [
        "# Тестирование"
      ]
    },
    {
      "cell_type": "code",
      "metadata": {
        "id": "aYgsMGdPcqwd",
        "colab": {
          "base_uri": "https://localhost:8080/"
        },
        "outputId": "7906b444-700f-4ca7-d26e-c55817a94d2d"
      },
      "source": [
        "model = load_model('../models/count_vectorizer')\n",
        "len(model.vocabulary_)"
      ],
      "execution_count": 31,
      "outputs": [
        {
          "output_type": "execute_result",
          "data": {
            "text/plain": [
              "20554"
            ]
          },
          "metadata": {},
          "execution_count": 31
        }
      ]
    },
    {
      "cell_type": "code",
      "metadata": {
        "id": "yMjOmEGpt4NZ",
        "colab": {
          "base_uri": "https://localhost:8080/"
        },
        "outputId": "734f3cac-1e05-40c7-ba14-21d69f045622"
      },
      "source": [
        "model = load_model('../models/tfidf_vectorizer')\n",
        "len(model.vocabulary_)"
      ],
      "execution_count": 32,
      "outputs": [
        {
          "output_type": "execute_result",
          "data": {
            "text/plain": [
              "13380"
            ]
          },
          "metadata": {},
          "execution_count": 32
        }
      ]
    },
    {
      "cell_type": "code",
      "metadata": {
        "colab": {
          "base_uri": "https://localhost:8080/",
          "height": 595
        },
        "id": "S7txBZJNI5lh",
        "outputId": "2d3716b0-2eca-4b2f-bf0b-eeab92a8e6f4"
      },
      "source": [
        "df = load_df('../data/prepared_description_vacancies_vectorizer.csv')\n",
        "df"
      ],
      "execution_count": 33,
      "outputs": [
        {
          "output_type": "execute_result",
          "data": {
            "text/html": [
              "<div>\n",
              "<style scoped>\n",
              "    .dataframe tbody tr th:only-of-type {\n",
              "        vertical-align: middle;\n",
              "    }\n",
              "\n",
              "    .dataframe tbody tr th {\n",
              "        vertical-align: top;\n",
              "    }\n",
              "\n",
              "    .dataframe thead th {\n",
              "        text-align: right;\n",
              "    }\n",
              "</style>\n",
              "<table border=\"1\" class=\"dataframe\">\n",
              "  <thead>\n",
              "    <tr style=\"text-align: right;\">\n",
              "      <th></th>\n",
              "      <th>vacancy_id</th>\n",
              "      <th>raw_description</th>\n",
              "      <th>prepared_description</th>\n",
              "      <th>count_vectorizer</th>\n",
              "      <th>tfidf_vectorizer</th>\n",
              "    </tr>\n",
              "  </thead>\n",
              "  <tbody>\n",
              "    <tr>\n",
              "      <th>0</th>\n",
              "      <td>795348</td>\n",
              "      <td>{'id': '795348', 'premium': False, 'billing_ty...</td>\n",
              "      <td>[['сфера', 'деятельность', 'розничный', 'торго...</td>\n",
              "      <td>[0, 0, 0, 0, 0, 0, 0, 0, 0, 0, 0, 0, 0, 0, 0, ...</td>\n",
              "      <td>[0.0, 0.0, 0.0, 0.0, 0.0, 0.0, 0.0, 0.0, 0.0, ...</td>\n",
              "    </tr>\n",
              "    <tr>\n",
              "      <th>1</th>\n",
              "      <td>795347</td>\n",
              "      <td>{'id': '795347', 'premium': False, 'billing_ty...</td>\n",
              "      <td>[['corporate', 'western', 'bank', 'initiates',...</td>\n",
              "      <td>[0, 0, 0, 0, 0, 0, 0, 0, 0, 0, 0, 0, 0, 0, 0, ...</td>\n",
              "      <td>[0.0, 0.0, 0.0, 0.0, 0.0, 0.0, 0.0, 0.0, 0.0, ...</td>\n",
              "    </tr>\n",
              "    <tr>\n",
              "      <th>2</th>\n",
              "      <td>795353</td>\n",
              "      <td>{'id': '795353', 'premium': False, 'billing_ty...</td>\n",
              "      <td>[['обязанность', 'осуществление', 'качественны...</td>\n",
              "      <td>[0, 0, 0, 0, 0, 0, 0, 0, 0, 0, 0, 0, 0, 0, 0, ...</td>\n",
              "      <td>[0.0, 0.0, 0.0, 0.0, 0.0, 0.0, 0.0, 0.0, 0.0, ...</td>\n",
              "    </tr>\n",
              "    <tr>\n",
              "      <th>3</th>\n",
              "      <td>795350</td>\n",
              "      <td>{'id': '795350', 'premium': False, 'billing_ty...</td>\n",
              "      <td>[['основной', 'обязанность', 'ведение', 'кадро...</td>\n",
              "      <td>[0, 0, 0, 0, 0, 0, 0, 0, 0, 0, 0, 0, 0, 0, 0, ...</td>\n",
              "      <td>[0.0, 0.0, 0.0, 0.0, 0.0, 0.0, 0.0, 0.0, 0.0, ...</td>\n",
              "    </tr>\n",
              "    <tr>\n",
              "      <th>4</th>\n",
              "      <td>795352</td>\n",
              "      <td>{'id': '795352', 'premium': False, 'billing_ty...</td>\n",
              "      <td>[['обязанность', 'приём', 'распределение', 'вх...</td>\n",
              "      <td>[0, 0, 0, 0, 0, 0, 0, 0, 0, 0, 0, 0, 0, 0, 0, ...</td>\n",
              "      <td>[0.0, 0.0, 0.0, 0.0, 0.0, 0.0, 0.0, 0.0, 0.0, ...</td>\n",
              "    </tr>\n",
              "    <tr>\n",
              "      <th>...</th>\n",
              "      <td>...</td>\n",
              "      <td>...</td>\n",
              "      <td>...</td>\n",
              "      <td>...</td>\n",
              "      <td>...</td>\n",
              "    </tr>\n",
              "    <tr>\n",
              "      <th>2995</th>\n",
              "      <td>800919</td>\n",
              "      <td>{'id': '800919', 'premium': False, 'billing_ty...</td>\n",
              "      <td>[['обязанность', 'руководство', 'проект', 'нач...</td>\n",
              "      <td>[0, 0, 0, 0, 0, 0, 0, 0, 0, 0, 0, 0, 0, 0, 0, ...</td>\n",
              "      <td>[0.0, 0.0, 0.0, 0.0, 0.0, 0.0, 0.0, 0.0, 0.0, ...</td>\n",
              "    </tr>\n",
              "    <tr>\n",
              "      <th>2996</th>\n",
              "      <td>800917</td>\n",
              "      <td>{'id': '800917', 'premium': False, 'billing_ty...</td>\n",
              "      <td>[['обязанность', 'сопровождение', 'договор', '...</td>\n",
              "      <td>[2, 0, 0, 0, 0, 0, 1, 0, 0, 0, 0, 0, 0, 0, 0, ...</td>\n",
              "      <td>[0.1442695711441709, 0.0, 0.0, 0.0, 0.0, 0.0, ...</td>\n",
              "    </tr>\n",
              "    <tr>\n",
              "      <th>2997</th>\n",
              "      <td>800920</td>\n",
              "      <td>{'id': '800920', 'premium': False, 'billing_ty...</td>\n",
              "      <td>[['российский', 'косметический', 'компания', '...</td>\n",
              "      <td>[0, 0, 0, 0, 0, 0, 0, 0, 0, 0, 0, 0, 0, 0, 0, ...</td>\n",
              "      <td>[0.0, 0.0, 0.0, 0.0, 0.0, 0.0, 0.0, 0.0, 0.0, ...</td>\n",
              "    </tr>\n",
              "    <tr>\n",
              "      <th>2998</th>\n",
              "      <td>800921</td>\n",
              "      <td>{'id': '800921', 'premium': False, 'billing_ty...</td>\n",
              "      <td>[['основной', 'обязанность', 'руководство', 'о...</td>\n",
              "      <td>[2, 0, 0, 0, 0, 0, 0, 1, 0, 0, 0, 0, 0, 0, 0, ...</td>\n",
              "      <td>[0.10681281732795717, 0.0, 0.0, 0.0, 0.0, 0.0,...</td>\n",
              "    </tr>\n",
              "    <tr>\n",
              "      <th>2999</th>\n",
              "      <td>800925</td>\n",
              "      <td>{'id': '800925', 'premium': False, 'billing_ty...</td>\n",
              "      <td>[['обязанность', 'опыт', 'ведение', 'переговор...</td>\n",
              "      <td>[0, 0, 0, 0, 0, 0, 0, 0, 0, 0, 0, 0, 0, 0, 0, ...</td>\n",
              "      <td>[0.0, 0.0, 0.0, 0.0, 0.0, 0.0, 0.0, 0.0, 0.0, ...</td>\n",
              "    </tr>\n",
              "  </tbody>\n",
              "</table>\n",
              "<p>3000 rows × 5 columns</p>\n",
              "</div>"
            ],
            "text/plain": [
              "      vacancy_id  ...                                   tfidf_vectorizer\n",
              "0         795348  ...  [0.0, 0.0, 0.0, 0.0, 0.0, 0.0, 0.0, 0.0, 0.0, ...\n",
              "1         795347  ...  [0.0, 0.0, 0.0, 0.0, 0.0, 0.0, 0.0, 0.0, 0.0, ...\n",
              "2         795353  ...  [0.0, 0.0, 0.0, 0.0, 0.0, 0.0, 0.0, 0.0, 0.0, ...\n",
              "3         795350  ...  [0.0, 0.0, 0.0, 0.0, 0.0, 0.0, 0.0, 0.0, 0.0, ...\n",
              "4         795352  ...  [0.0, 0.0, 0.0, 0.0, 0.0, 0.0, 0.0, 0.0, 0.0, ...\n",
              "...          ...  ...                                                ...\n",
              "2995      800919  ...  [0.0, 0.0, 0.0, 0.0, 0.0, 0.0, 0.0, 0.0, 0.0, ...\n",
              "2996      800917  ...  [0.1442695711441709, 0.0, 0.0, 0.0, 0.0, 0.0, ...\n",
              "2997      800920  ...  [0.0, 0.0, 0.0, 0.0, 0.0, 0.0, 0.0, 0.0, 0.0, ...\n",
              "2998      800921  ...  [0.10681281732795717, 0.0, 0.0, 0.0, 0.0, 0.0,...\n",
              "2999      800925  ...  [0.0, 0.0, 0.0, 0.0, 0.0, 0.0, 0.0, 0.0, 0.0, ...\n",
              "\n",
              "[3000 rows x 5 columns]"
            ]
          },
          "metadata": {},
          "execution_count": 33
        }
      ]
    }
  ]
}